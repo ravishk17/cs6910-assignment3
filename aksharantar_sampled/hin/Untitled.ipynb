{
 "cells": [
  {
   "cell_type": "code",
   "execution_count": 21,
   "id": "bd9f8502-26fa-43bf-ab41-23eaadcd7486",
   "metadata": {},
   "outputs": [
    {
     "name": "stdout",
     "output_type": "stream",
     "text": [
      "         shastragaar     शस्त्रागार\n",
      "0            bindhya       बिन्द्या\n",
      "1          kirankant       किरणकांत\n",
      "2        yagyopaveet      यज्ञोपवीत\n",
      "3            ratania        रटानिया\n",
      "4         vaganyache      वागण्याचे\n",
      "..               ...            ...\n",
      "495             doce            डूस\n",
      "496  bodhicharyavtar  बोधिचर्यावतार\n",
      "497         bhogyukt       भोगयुक्त\n",
      "498       subbanghat      सुब्बनघाट\n",
      "499         gandhase          गंधसे\n",
      "\n",
      "[500 rows x 2 columns]\n"
     ]
    }
   ],
   "source": [
    "import pandas as pd\n",
    "\n",
    "def copy_subset(input_file_path, output_file_path, num_rows=500):\n",
    "    # Read the input CSV file into a DataFrame\n",
    "    df = pd.read_csv(input_file_path)\n",
    "    \n",
    "    # Select the subset of rows (first 100 rows in this case)\n",
    "    df_subset = df.iloc[:num_rows, :]  # Selecting first 100 rows\n",
    "    print(df_subset)\n",
    "    \n",
    "    # Write the subset to the output CSV file\n",
    "    df_subset.to_csv(output_file_path,index=False)\n",
    "\n",
    "# Example usage\n",
    "input_file_path = 'hin_train_all.csv'\n",
    "output_file_path = 'hin_train.csv'\n",
    "copy_subset(input_file_path, output_file_path)\n"
   ]
  },
  {
   "cell_type": "code",
   "execution_count": null,
   "id": "94ecee05-df02-4665-aaba-0e6a98a27d0f",
   "metadata": {},
   "outputs": [],
   "source": []
  }
 ],
 "metadata": {
  "kernelspec": {
   "display_name": "Python 3 (ipykernel)",
   "language": "python",
   "name": "python3"
  },
  "language_info": {
   "codemirror_mode": {
    "name": "ipython",
    "version": 3
   },
   "file_extension": ".py",
   "mimetype": "text/x-python",
   "name": "python",
   "nbconvert_exporter": "python",
   "pygments_lexer": "ipython3",
   "version": "3.12.0"
  }
 },
 "nbformat": 4,
 "nbformat_minor": 5
}
